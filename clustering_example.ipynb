{
 "cells": [
  {
   "cell_type": "code",
   "execution_count": 1,
   "id": "f8fd88c4-018c-4ee5-ae2d-94dc8d091bce",
   "metadata": {},
   "outputs": [
    {
     "name": "stdout",
     "output_type": "stream",
     "text": [
      "/opt/homebrew/opt/python@3.12/bin/python3.12\n",
      "3.12.4 (main, Jun  6 2024, 18:26:44) [Clang 15.0.0 (clang-1500.3.9.4)]\n"
     ]
    }
   ],
   "source": [
    "import sys\n",
    "print(sys.executable)\n",
    "print(sys.version)"
   ]
  },
  {
   "cell_type": "code",
   "execution_count": 6,
   "id": "5b608723-c3ce-4929-9bbd-2b41bc897592",
   "metadata": {},
   "outputs": [],
   "source": [
    "import numpy as np\n",
    "import pandas as pd"
   ]
  },
  {
   "cell_type": "code",
   "execution_count": 47,
   "id": "2bc3fff2-33d6-4d47-b91e-0199e2e1cb66",
   "metadata": {},
   "outputs": [],
   "source": [
    "columns_desc = {'CUST_ID': 'Идентификация держателя кредитной карты (категориальный)',\n",
    " 'BALANCE': 'Сумма остатка на счету для совершения покупок',\n",
    " 'BALANCE_FREQUENCY': 'Как часто обновляется баланс, оценка от 0 до 1 (1 = часто обновляется, 0 = не обновляется)',\n",
    " 'PURCHASES': 'Сумма покупок, сделанных со счета',\n",
    " 'ONEOFF_PURCHASES': 'Максимальная сумма единовременной покупки',\n",
    " 'INSTALLMENTS_PURCHASES': 'Сумма покупок, сделанных в рассрочку',\n",
    " 'CASH_ADVANCE': 'Сумма аванса наличными, выданного пользователю',\n",
    " 'PURCHASES_FREQUENCY': 'Как часто совершаются покупки, оценка от 0 до 1 (1 = часто покупается, 0 = не покупается)',\n",
    " 'ONEOFF_PURCHASES_FREQUENCY': 'Как часто совершаются единовременные покупки (1 = часто покупается, 0 = не покупается)',\n",
    " 'PURCHASES_INSTALLMENTS_FREQUENCY': 'Как часто совершаются покупки в рассрочку (1 = часто, 0 = не часто)',\n",
    " 'CASH_ADVANCE_FREQUENCY': 'Как часто выплачивается аванс наличными',\n",
    " 'CASH_ADVANCE_TRX': 'Количество транзакций, совершенных с использованием аванса наличными',\n",
    " 'PURCHASES_TRX': 'Количество транзакций по покупкам',\n",
    " 'CREDIT_LIMIT': 'Кредитный лимит пользователя по кредитной карте',\n",
    " 'PAYMENTS': 'Сумма платежей, совершенных пользователем',\n",
    " 'MINIMUM_PAYMENTS': 'Минимальная сумма платежей, совершенных пользователем',\n",
    " 'PRC_FULL_PAYMENT': 'Процент полностью оплаченных платежей пользователем',\n",
    " 'TENURE': 'Срок обслуживания по кредитной карте для пользователя'}"
   ]
  },
  {
   "cell_type": "code",
   "execution_count": 11,
   "id": "92a8d70a-7b6d-4795-aa71-55814a32f4ef",
   "metadata": {},
   "outputs": [
    {
     "name": "stdout",
     "output_type": "stream",
     "text": [
      "<class 'pandas.core.frame.DataFrame'>\n",
      "RangeIndex: 8950 entries, 0 to 8949\n",
      "Data columns (total 18 columns):\n",
      " #   Column                            Non-Null Count  Dtype  \n",
      "---  ------                            --------------  -----  \n",
      " 0   CUST_ID                           8950 non-null   object \n",
      " 1   BALANCE                           8950 non-null   float64\n",
      " 2   BALANCE_FREQUENCY                 8950 non-null   float64\n",
      " 3   PURCHASES                         8950 non-null   float64\n",
      " 4   ONEOFF_PURCHASES                  8950 non-null   float64\n",
      " 5   INSTALLMENTS_PURCHASES            8950 non-null   float64\n",
      " 6   CASH_ADVANCE                      8950 non-null   float64\n",
      " 7   PURCHASES_FREQUENCY               8950 non-null   float64\n",
      " 8   ONEOFF_PURCHASES_FREQUENCY        8950 non-null   float64\n",
      " 9   PURCHASES_INSTALLMENTS_FREQUENCY  8950 non-null   float64\n",
      " 10  CASH_ADVANCE_FREQUENCY            8950 non-null   float64\n",
      " 11  CASH_ADVANCE_TRX                  8950 non-null   int64  \n",
      " 12  PURCHASES_TRX                     8950 non-null   int64  \n",
      " 13  CREDIT_LIMIT                      8949 non-null   float64\n",
      " 14  PAYMENTS                          8950 non-null   float64\n",
      " 15  MINIMUM_PAYMENTS                  8637 non-null   float64\n",
      " 16  PRC_FULL_PAYMENT                  8950 non-null   float64\n",
      " 17  TENURE                            8950 non-null   int64  \n",
      "dtypes: float64(14), int64(3), object(1)\n",
      "memory usage: 1.2+ MB\n"
     ]
    }
   ],
   "source": [
    "data = pd.read_csv('customer_credit_card_data.csv')\n",
    "data.info()"
   ]
  },
  {
   "cell_type": "code",
   "execution_count": 12,
   "id": "41d65598-6f37-4538-a350-6717c4ac08bd",
   "metadata": {},
   "outputs": [
    {
     "data": {
      "text/plain": [
       "CUST_ID                               0\n",
       "BALANCE                               0\n",
       "BALANCE_FREQUENCY                     0\n",
       "PURCHASES                             0\n",
       "ONEOFF_PURCHASES                      0\n",
       "INSTALLMENTS_PURCHASES                0\n",
       "CASH_ADVANCE                          0\n",
       "PURCHASES_FREQUENCY                   0\n",
       "ONEOFF_PURCHASES_FREQUENCY            0\n",
       "PURCHASES_INSTALLMENTS_FREQUENCY      0\n",
       "CASH_ADVANCE_FREQUENCY                0\n",
       "CASH_ADVANCE_TRX                      0\n",
       "PURCHASES_TRX                         0\n",
       "CREDIT_LIMIT                          1\n",
       "PAYMENTS                              0\n",
       "MINIMUM_PAYMENTS                    313\n",
       "PRC_FULL_PAYMENT                      0\n",
       "TENURE                                0\n",
       "dtype: int64"
      ]
     },
     "execution_count": 12,
     "metadata": {},
     "output_type": "execute_result"
    }
   ],
   "source": [
    "data.isna().sum()"
   ]
  },
  {
   "cell_type": "code",
   "execution_count": 48,
   "id": "15924d5c-0949-4818-a784-8a28840319b4",
   "metadata": {},
   "outputs": [
    {
     "name": "stdout",
     "output_type": "stream",
     "text": [
      "Идентификация держателя кредитной карты (категориальный)                                             8950\n",
      "Сумма остатка на счету для совершения покупок                                                        8871\n",
      "Как часто обновляется баланс, оценка от 0 до 1 (1 = часто обновляется, 0 = не обновляется)           43\n",
      "Сумма покупок, сделанных со счета                                                                    6203\n",
      "Максимальная сумма единовременной покупки                                                            4014\n",
      "Сумма покупок, сделанных в рассрочку                                                                 4452\n",
      "Сумма аванса наличными, выданного пользователю                                                       4323\n",
      "Как часто совершаются покупки, оценка от 0 до 1 (1 = часто покупается, 0 = не покупается)            47\n",
      "Как часто совершаются единовременные покупки (1 = часто покупается, 0 = не покупается)               47\n",
      "Как часто совершаются покупки в рассрочку (1 = часто, 0 = не часто)                                  47\n",
      "Как часто выплачивается аванс наличными                                                              54\n",
      "Количество транзакций, совершенных с использованием аванса наличными                                 65\n",
      "Количество транзакций по покупкам                                                                    173\n",
      "Кредитный лимит пользователя по кредитной карте                                                      206\n",
      "Сумма платежей, совершенных пользователем                                                            8711\n",
      "Минимальная сумма платежей, совершенных пользователем                                                8637\n",
      "Процент полностью оплаченных платежей пользователем                                                  47\n",
      "Срок обслуживания по кредитной карте для пользователя                                                7\n"
     ]
    }
   ],
   "source": [
    "for col in data.columns:\n",
    "    print(f\"{columns_desc.get(col, col):<100} {len(data[col].unique())}\")"
   ]
  },
  {
   "cell_type": "code",
   "execution_count": null,
   "id": "bb70f705-1658-43d6-8580-fc2222f80a10",
   "metadata": {},
   "outputs": [],
   "source": []
  },
  {
   "cell_type": "code",
   "execution_count": null,
   "id": "48b284f6-21c2-4554-b33c-39998478ec15",
   "metadata": {},
   "outputs": [],
   "source": []
  },
  {
   "cell_type": "code",
   "execution_count": null,
   "id": "35665b73-cfaa-471c-a188-39c25e18d7ee",
   "metadata": {},
   "outputs": [],
   "source": []
  }
 ],
 "metadata": {
  "kernelspec": {
   "display_name": "python3.12_clustering",
   "language": "python",
   "name": "python3.12_clustering"
  },
  "language_info": {
   "codemirror_mode": {
    "name": "ipython",
    "version": 3
   },
   "file_extension": ".py",
   "mimetype": "text/x-python",
   "name": "python",
   "nbconvert_exporter": "python",
   "pygments_lexer": "ipython3",
   "version": "3.12.4"
  }
 },
 "nbformat": 4,
 "nbformat_minor": 5
}
